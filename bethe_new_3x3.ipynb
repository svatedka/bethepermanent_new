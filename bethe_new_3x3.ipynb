t11,t12,t13 = var('t11 t12 t13')
t21,t22,t23 = var('t21 t22 t23')
t31,t32,t33 = var('t31 t32 t33')
A1 = matrix([[t11,0,0,1],[0,0,1,0],[0,1,0,0],[1,0,0,0]])
A2 = matrix([[t22,0,0,1],[0,1,0,0],[0,0,1,0],[1,0,0,0]])
A3 = matrix([[t33,0,0,1],[0,0,1,0],[0,1,0,0],[1,0,0,0]])
D13 = matrix([[1,0,0,0],[0,t13,0,0],[0,0,t31,0],[0,0,0,t13*t31]])
D23 = matrix([[1,0,0,0],[0,t23,0,0],[0,0,t32,0],[0,0,0,t23*t32]])
D12 = matrix([[1,0,0,0],[0,t12,0,0],[0,0,t21,0],[0,0,0,t12*t21]])


M_L = D23*A2*D12*A1*D13*A3

print("M_L\n")
M_L

M_R = A3*D13*A1*D12*A2*D23

print("\nM_R\n")
M_R

print("\nEigenvalues of M_R\n")

M_R.eigenvalues()

print("\nEigenvalues of M_L\n")

M_L.eigenvalues()
